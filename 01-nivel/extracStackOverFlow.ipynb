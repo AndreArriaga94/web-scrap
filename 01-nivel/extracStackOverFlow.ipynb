{
 "cells": [
  {
   "cell_type": "code",
   "execution_count": 24,
   "metadata": {},
   "outputs": [
    {
     "name": "stdout",
     "output_type": "stream",
     "text": [
      "Is it possible to have a list counter style that behaves like number.toLocaleString()?Basically to show like 1,234 or 1.234 depending on locale?I can't even seem to figure out how to have it even ...\n",
      "I am using OpenTelemetry Version=1.8.1 and OpenTelemetry.Exporter.Jaeger Version=1.5.1 with .NET 5. When writing traces to Jaeger, the http.route tag is missing. I have another API based on .NET 6, ...\n",
      "First of all I give you the context of my server setup:in my server I have docker installed that allows me to create different containers that correspond to the services that my server hosts. Then I ...\n",
      "new to Stored Procedures trying to establish a NEWID() (copy) and getting error that uniqueidentifier is incompatible with int what am i doing wrong? SET ANSI_NULLS ONGOSET QUOTED_IDENTIFIER ONGO...\n",
      "I am developing a timer app in iOS using Flutter. User can also choose to run the timer with background music.When I run the app on debug mode by connecting a physical device, the app (timer) works ...\n",
      "I'm trying to setup a timeout for each separate HttpClient.Send method in .net8.0.So I used CancellationTokenSource but It seems that it starts the timer as soon as I create it instead of starting ...\n",
      "I have a react native application that was working perfect with react native 0.68.0I had tu upgrade to 0.74.3 to make it compatible with android sdk 34.After a lot of work and fixing all the ...\n",
      "i got this error in react = index.tsx:963 Uncaught TypeError: Cannot destructure property 'basename' of 'react__WEBPACK_IMPORTED_MODULE_0__.useContext(...)' as it is null.In the code below, I am ...\n",
      "I have an API which is currently secured using the validate-jwt policy.  The output token I get from a variable and want to give different quotas to different customers, for this I am using the \"...\n",
      "I have a header bar with a config button. The config button successfully opens a native dialog window.The header bar markup has the dialog component and an ng-template. The template is so that the ...\n",
      "I control the number of fragment shader invocations whereVkPipelineInputAssemblyStateCreateInfo.topology = VK_PRIMITIVE_TOPOLOGY_POINT_LIST to 9 invocations by setting gl_PointSize to 3. I ideally ...\n",
      "I'm using Fabric.js 5.3.1 in a website where users can upload a photo and mark them up. Everything seems to be working however when I set the uploaded image to the background of the canvas and scale ...\n",
      "I have a ViewController with a UICollectionView and a DiffableDataSource. Additionally, I have two entities: User and Chat.Initially, my data source was defined as:private var dataSource: ...\n",
      "This site is behind CloudFlare and gets hit by many bots, I identify them and count requests by a PHP script, check their IPs, hostname, reverse hostname (to validate GoogleBot and others) etc.But ...\n",
      "GrandTotal   = GrandTotal +   resultSet.getInt(3) ;jLabel1.setText(GrandTotal.toString());I fetch values from database and add in a variable GrandTotal in the next line I am printingthis value in ...\n"
     ]
    }
   ],
   "source": [
    "import requests\n",
    "from bs4 import BeautifulSoup\n",
    "\n",
    "headers = {\n",
    "    \"user-agent\": \"Mozilla/5.0 (Macintosh; Intel Mac OS X 10_15_7) AppleWebKit/537.36 (KHTML, like Gecko) Chrome/120.0.0.0 Safari/537.36\"\n",
    "}\n",
    "\n",
    "url = 'https://stackoverflow.com/questions'\n",
    "\n",
    "respuesta = requests.get(url, headers = headers)\n",
    "\n",
    "soup = BeautifulSoup(respuesta.text)\n",
    "contenedorPreguntas = soup.find(id='questions')\n",
    "listaPreguntas = contenedorPreguntas.find_all('div', class_=\"s-post-summary\")\n",
    "# print(listaPreguntas)\n",
    "\n",
    "for pregunta in listaPreguntas:\n",
    "    textoPregunta = pregunta.find('h3').text\n",
    "    descripcionPregunta = pregunta.find(class_='s-post-summary--content-excerpt').text\n",
    "    descripcionPregunta = descripcionPregunta.replace('\\n', '').replace('\\r', '').strip()\n",
    "    print(descripcionPregunta)"
   ]
  }
 ],
 "metadata": {
  "kernelspec": {
   "display_name": "base",
   "language": "python",
   "name": "python3"
  },
  "language_info": {
   "codemirror_mode": {
    "name": "ipython",
    "version": 3
   },
   "file_extension": ".py",
   "mimetype": "text/x-python",
   "name": "python",
   "nbconvert_exporter": "python",
   "pygments_lexer": "ipython3",
   "version": "3.11.7"
  }
 },
 "nbformat": 4,
 "nbformat_minor": 2
}
