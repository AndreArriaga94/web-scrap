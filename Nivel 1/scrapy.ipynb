{
 "cells": [
  {
   "cell_type": "code",
   "execution_count": 2,
   "metadata": {},
   "outputs": [],
   "source": [
    "from scrapy.item import Field, Item\n",
    "from scrapy.spiders import Spider\n",
    "from scrapy.selector import Selector\n",
    "from scrapy.loader import ItemLoader"
   ]
  },
  {
   "cell_type": "code",
   "execution_count": 3,
   "metadata": {},
   "outputs": [],
   "source": [
    "class Dato(Item):\n",
    "    texto = Field()\n",
    "\n",
    "\n",
    "class SpiderDeDatos(Spider):\n",
    "    name = \"MiPrimerSpider\"\n",
    "    "
   ]
  },
  {
   "cell_type": "code",
   "execution_count": 4,
   "metadata": {},
   "outputs": [],
   "source": [
    "start_urls = ['https://']\n",
    "\n",
    "def parse(self,reponse):\n",
    "    sel = Selector(reponse)\n",
    "    titulo_de_pagina = sel.xpath('//h1/text()').get()\n",
    "\n",
    "    lista = sel.xpath('//div[@id=\"datos\"]')\n",
    "    for elemento in lista:\n",
    "        item = ItemLoader(Dato(), elemento)\n",
    "        item.add_xpath('texto', './/h3/a/text()')\n",
    "        yield item.load_item()"
   ]
  }
 ],
 "metadata": {
  "kernelspec": {
   "display_name": "base",
   "language": "python",
   "name": "python3"
  },
  "language_info": {
   "codemirror_mode": {
    "name": "ipython",
    "version": 3
   },
   "file_extension": ".py",
   "mimetype": "text/x-python",
   "name": "python",
   "nbconvert_exporter": "python",
   "pygments_lexer": "ipython3",
   "version": "3.11.7"
  }
 },
 "nbformat": 4,
 "nbformat_minor": 2
}
