{
 "cells": [
  {
   "cell_type": "code",
   "execution_count": 3,
   "metadata": {},
   "outputs": [],
   "source": [
    "from scrapy.item import Field, Item\n",
    "from scrapy.spiders import Spider\n",
    "from scrapy.selector import Selector\n",
    "from scrapy.loader import ItemLoader\n",
    "\n",
    "#Propiedades que se quieren extraer\n",
    "\n",
    "class Pregunta(Item):\n",
    "    id = Field()\n",
    "    pregunta = Field()\n",
    "    descripcion = Field()\n",
    "\n",
    "\n",
    "class StackOverflowSpider(Spider):\n",
    "    name = 'MiPrimerSpider'\n",
    "    custom_settings = {\n",
    "        \"USER_AGENT\": \"Mozilla/5.0 (Macintosh; Intel Mac OS X 10_15_7) AppleWebKit/537.36 (KHTML, like Gecko) Chrome/120.0.0.0 Safari/537.36\"\n",
    "    }\n",
    "\n",
    "    startUrl = ['https://stackoverflow.com/questions']\n",
    "\n",
    "    def parse(self, response):\n",
    "        sel = Selector(response)\n",
    "        preguntas = sel.xpath('//div[@id=\"questions\"]//div[@class=\"question-summary]')\n",
    "        for pregunta in preguntas:\n",
    "            item = ItemLoader(Pregunta(),pregunta)\n",
    "            #que variable se va a llenar, con cual xpath\n",
    "            item.add_xpath('pregunta','.//h3/a/text()')\n",
    "            item.add_xpath('descripcion','.//div[@class=\"excerpt\"]/text()')\n",
    "            item.add_value('item',1)\n",
    "\n",
    "            yield item.load_item()"
   ]
  },
  {
   "cell_type": "code",
   "execution_count": null,
   "metadata": {},
   "outputs": [],
   "source": [
    "/opt/anaconda3/bin/python"
   ]
  },
  {
   "cell_type": "code",
   "execution_count": null,
   "metadata": {},
   "outputs": [],
   "source": []
  }
 ],
 "metadata": {
  "kernelspec": {
   "display_name": "base",
   "language": "python",
   "name": "python3"
  },
  "language_info": {
   "codemirror_mode": {
    "name": "ipython",
    "version": 3
   },
   "file_extension": ".py",
   "mimetype": "text/x-python",
   "name": "python",
   "nbconvert_exporter": "python",
   "pygments_lexer": "ipython3",
   "version": "3.11.7"
  }
 },
 "nbformat": 4,
 "nbformat_minor": 2
}
